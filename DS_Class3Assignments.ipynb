{
 "cells": [
  {
   "cell_type": "code",
   "execution_count": 12,
   "metadata": {},
   "outputs": [
    {
     "name": "stdout",
     "output_type": "stream",
     "text": [
      "Your full name is:  Lilly Lilian\n"
     ]
    }
   ],
   "source": [
    "#Assignment 1\n",
    "def nam(fName,lName):\n",
    "    print(\"Your full name is: \",fName,lName)\n",
    "nam('Lilly','Lilian')"
   ]
  },
  {
   "cell_type": "code",
   "execution_count": 41,
   "metadata": {},
   "outputs": [
    {
     "name": "stdout",
     "output_type": "stream",
     "text": [
      "Ages of this family are as follows:\n",
      "\n",
      "Father is 50.\n",
      "Mother is 45.\n",
      "Daughter is 25.\n",
      "Son is 20.\n"
     ]
    }
   ],
   "source": [
    "#Assignment 2\n",
    "print(\"Ages of this family are as follows:\\n\")\n",
    "def Family(fami):\n",
    "        for pos,age in fami.items():\n",
    "            print(\"{0} is {1}.\".format(pos,age))\n",
    "Family_Age = {\"Father\": 50, \"Mother\": 45, \"Daughter\": 25, \"Son\":20}\n",
    "Family(Family_Age)    "
   ]
  }
 ],
 "metadata": {
  "kernelspec": {
   "display_name": "Python 3",
   "language": "python",
   "name": "python3"
  },
  "language_info": {
   "codemirror_mode": {
    "name": "ipython",
    "version": 3
   },
   "file_extension": ".py",
   "mimetype": "text/x-python",
   "name": "python",
   "nbconvert_exporter": "python",
   "pygments_lexer": "ipython3",
   "version": "3.8.5"
  }
 },
 "nbformat": 4,
 "nbformat_minor": 4
}
